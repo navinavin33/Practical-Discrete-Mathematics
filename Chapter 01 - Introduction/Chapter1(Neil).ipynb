{
  "cells": [
    {
      "cell_type": "markdown",
      "metadata": {
        "id": "view-in-github",
        "colab_type": "text"
      },
      "source": [
        "<a href=\"https://colab.research.google.com/github/navinavin33/Practical-Discrete-Mathematics/blob/master/Chapter%2001%20-%20Introduction/Chapter1(Neil).ipynb\" target=\"_parent\"><img src=\"https://colab.research.google.com/assets/colab-badge.svg\" alt=\"Open In Colab\"/></a>"
      ]
    },
    {
      "cell_type": "markdown",
      "metadata": {
        "id": "MnYhYHZ4WGeq"
      },
      "source": [
        "# Chapter 1 - Introduction: Key Concepts, Notation, Set Theory, Relations, and Functions\n",
        "\n",
        "This notebook contains code accompanying Chapter 1 Introduction: Key Concepts, Notation, Set Theory, Relations, and Functions in *Practical Discrete Mathematics* by Ryan T. White and Archana Tikayat Ray\n",
        "\n",
        "## Functions and Relations\n",
        "\n",
        "### The `sort()` function"
      ]
    },
    {
      "cell_type": "code",
      "execution_count": 1,
      "metadata": {
        "id": "BtUzy-MQWGer",
        "outputId": "73b198a6-64b6-4e28-ba2d-230cc437f714",
        "colab": {
          "base_uri": "https://localhost:8080/"
        }
      },
      "outputs": [
        {
          "output_type": "stream",
          "name": "stdout",
          "text": [
            "[1, 2, 3, 4, 5, 8, 9, 12]\n",
            "['Brandon', 'Elise', 'Eugene', 'Kumar', 'Wyatt']\n"
          ]
        }
      ],
      "source": [
        "numbers = [3, 1, 4, 12, 8, 5, 2, 9]\n",
        "names = ['Wyatt', 'Brandon', 'Kumar', 'Eugene', 'Elise']\n",
        "\n",
        "# Apply the sort() function to the lists\n",
        "numbers.sort()\n",
        "names.sort()\n",
        "\n",
        "# Display the output\n",
        "print(numbers)\n",
        "print(names)"
      ]
    },
    {
      "cell_type": "markdown",
      "metadata": {
        "id": "cvgUXlunWGes"
      },
      "source": [
        "### The `shuffle()` function"
      ]
    },
    {
      "cell_type": "code",
      "execution_count": 2,
      "metadata": {
        "id": "qhq6ww8qWGes",
        "outputId": "514f8847-6e1f-4bd0-965e-4dfe52b65e4e",
        "colab": {
          "base_uri": "https://localhost:8080/"
        }
      },
      "outputs": [
        {
          "output_type": "stream",
          "name": "stdout",
          "text": [
            "[12, 2, 1, 5, 9, 3, 8, 4]\n",
            "[4, 2, 8, 3, 1, 12, 5, 9]\n",
            "[4, 5, 1, 9, 3, 8, 12, 2]\n",
            "[9, 12, 2, 8, 5, 3, 4, 1]\n",
            "[9, 8, 4, 3, 12, 1, 5, 2]\n"
          ]
        }
      ],
      "source": [
        "import random\n",
        "\n",
        "# Set a random seed so the code is reproducible\n",
        "random.seed(1)\n",
        "\n",
        "# Run the random.shuffle() function 5 times and display the outputs\n",
        "for i in range(0,5):\n",
        "    numbers = [3, 1, 4, 12, 8, 5, 2, 9]\n",
        "    random.shuffle(numbers)\n",
        "    print(numbers)"
      ]
    },
    {
      "cell_type": "code",
      "source": [
        "import random\n",
        "\n",
        "# Generate two sets of random numbers\n",
        "set1 = set(random.sample(range(1, 100), 10))\n",
        "set2 = set(random.sample(range(1, 100), 10))\n",
        "\n",
        "# Find the common numbers in the two sets\n",
        "common_numbers = set1.intersection(set2)\n",
        "\n",
        "print(f\"Set 1: {set1}\")\n",
        "print(f\"Set 2: {set2}\")\n",
        "print(f\"Common numbers: {common_numbers}\")\n"
      ],
      "metadata": {
        "id": "ntbRWk-ybwWG",
        "outputId": "f0995eea-aeb3-41a7-aaf4-7d5247884da2",
        "colab": {
          "base_uri": "https://localhost:8080/"
        }
      },
      "execution_count": 6,
      "outputs": [
        {
          "output_type": "stream",
          "name": "stdout",
          "text": [
            "Set 1: {64, 65, 37, 5, 39, 76, 51, 86, 55, 25}\n",
            "Set 2: {32, 96, 71, 47, 52, 23, 54, 86, 90, 62}\n",
            "Common numbers: {86}\n"
          ]
        }
      ]
    },
    {
      "cell_type": "code",
      "source": [
        "import random\n",
        "\n",
        "# Name to shuffle\n",
        "name = \"NAVIN\"\n",
        "\n",
        "# Convert the name to a list of characters\n",
        "name_list = list(name)\n",
        "\n",
        "# Shuffle the list of characters\n",
        "random.shuffle(name_list)\n",
        "\n",
        "# Convert the list back to a string\n",
        "shuffled_name = ''.join(name_list)\n",
        "\n",
        "print(f\"Shuffled name: {shuffled_name}\")\n"
      ],
      "metadata": {
        "id": "GtGdw45mbCe1",
        "outputId": "40f962f9-6a71-4190-bae0-4b0ac7632c77",
        "colab": {
          "base_uri": "https://localhost:8080/"
        }
      },
      "execution_count": 3,
      "outputs": [
        {
          "output_type": "stream",
          "name": "stdout",
          "text": [
            "Shuffled name: ANVNI\n"
          ]
        }
      ]
    },
    {
      "cell_type": "code",
      "source": [
        "import requests\n",
        "from bs4 import BeautifulSoup\n",
        "import pandas as pd\n",
        "\n",
        "# URL of the Wikipedia page\n",
        "url = \"https://en.wikipedia.org/wiki/List_of_countries_by_population_(United_Nations)\"\n",
        "\n",
        "# Send a GET request to the URL\n",
        "response = requests.get(url)\n",
        "\n",
        "# Parse the HTML content\n",
        "soup = BeautifulSoup(response.content, 'html.parser')\n",
        "\n",
        "# Find the first table in the page\n",
        "table = soup.find('table', {'class': 'wikitable'})\n",
        "\n",
        "# Read the table into a pandas DataFrame\n",
        "df = pd.read_html(str(table))\n",
        "\n",
        "# Display the DataFrame\n",
        "print(df)\n"
      ],
      "metadata": {
        "id": "7km0L_JCbV6O",
        "outputId": "7ace9f23-d5b1-4a5e-886c-ac4850a128fc",
        "colab": {
          "base_uri": "https://localhost:8080/"
        }
      },
      "execution_count": 4,
      "outputs": [
        {
          "output_type": "stream",
          "name": "stdout",
          "text": [
            "[                               Country  Population (1 July 2022)  \\\n",
            "0                                World                8021407192   \n",
            "1                                India                1425423212   \n",
            "2                             China[a]                1425179569   \n",
            "3                        United States                 341534046   \n",
            "4                            Indonesia                 278830529   \n",
            "..                                 ...                       ...   \n",
            "233        Montserrat (United Kingdom)                      4453   \n",
            "234  Falkland Islands (United Kingdom)                      3490   \n",
            "235              Tokelau (New Zealand)                      2290   \n",
            "236                 Niue (New Zealand)                      1821   \n",
            "237                    Vatican City[x]                       505   \n",
            "\n",
            "     Population (1 July 2023)  Change UN Continental Region[1]  \\\n",
            "0                  8091734930  +0.88%                      NaN   \n",
            "1                  1438069596  +0.89%                     Asia   \n",
            "2                  1422584933  −0.18%                     Asia   \n",
            "3                   343477335  +0.57%                 Americas   \n",
            "4                   281190067  +0.85%                     Asia   \n",
            "..                        ...     ...                      ...   \n",
            "233                      4420  −0.74%                 Americas   \n",
            "234                      3477  −0.37%                 Americas   \n",
            "235                      2397  +4.67%                  Oceania   \n",
            "236                      1817  −0.22%                  Oceania   \n",
            "237                       496  −1.78%                   Europe   \n",
            "\n",
            "    UN Statistical Subregion[1]  \n",
            "0                           NaN  \n",
            "1                 Southern Asia  \n",
            "2                  Eastern Asia  \n",
            "3              Northern America  \n",
            "4            South-eastern Asia  \n",
            "..                          ...  \n",
            "233                   Caribbean  \n",
            "234               South America  \n",
            "235                   Polynesia  \n",
            "236                   Polynesia  \n",
            "237             Southern Europe  \n",
            "\n",
            "[238 rows x 6 columns]]\n"
          ]
        },
        {
          "output_type": "stream",
          "name": "stderr",
          "text": [
            "<ipython-input-4-de3ce58504b0>:18: FutureWarning: Passing literal html to 'read_html' is deprecated and will be removed in a future version. To read from a literal string, wrap it in a 'StringIO' object.\n",
            "  df = pd.read_html(str(table))\n"
          ]
        }
      ]
    },
    {
      "cell_type": "markdown",
      "source": [
        "Set 1: {96, 64, 35, 12, 16, 85, 54, 55, 58, 95}\n",
        "Set 2: {90, 70, 72, 74, 13, 78, 81, 51, 25, 58}\n",
        "The common number in both sets is 58.\n"
      ],
      "metadata": {
        "id": "ZsDjvSFKap_F"
      }
    }
  ],
  "metadata": {
    "kernelspec": {
      "display_name": "Python 3.7 (DL)",
      "language": "python",
      "name": "dl"
    },
    "language_info": {
      "codemirror_mode": {
        "name": "ipython",
        "version": 3
      },
      "file_extension": ".py",
      "mimetype": "text/x-python",
      "name": "python",
      "nbconvert_exporter": "python",
      "pygments_lexer": "ipython3",
      "version": "3.7.7"
    },
    "colab": {
      "provenance": [],
      "include_colab_link": true
    }
  },
  "nbformat": 4,
  "nbformat_minor": 0
}