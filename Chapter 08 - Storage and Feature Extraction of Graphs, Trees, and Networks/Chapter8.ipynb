{
  "cells": [
    {
      "cell_type": "markdown",
      "metadata": {
        "id": "k-NDqS5RrbPd"
      },
      "source": [
        "# Chapter 8 - Storage and Feature Extraction of Graphs, Trees, and Networks\n",
        "\n",
        "This notebook contains code accompanying Chapter 8 Storage and Feature Extraction of Graphs, Trees, and Networks in *Practical Discrete Mathematics* by Ryan T. White and Archana Tikayat Ray.\n",
        "\n",
        "## Storage of Graphs and Networks\n",
        "\n",
        "Below are adjacency matrices for storing the graphs in Figure 8.1 and Figure 8.8 as well as an adjacency matrix for the directed graph in Figure 8.6."
      ]
    },
    {
      "cell_type": "code",
      "execution_count": 2,
      "metadata": {
        "id": "24Ma2cqgrbPi",
        "outputId": "be81fe50-6064-4ebb-9b52-f69fe93775a5",
        "colab": {
          "base_uri": "https://localhost:8080/"
        }
      },
      "outputs": [
        {
          "output_type": "stream",
          "name": "stdout",
          "text": [
            "A1 = [[0 1 1 0 1 0]\n",
            " [1 0 1 1 0 1]\n",
            " [1 1 0 1 1 0]\n",
            " [0 1 1 0 1 0]\n",
            " [1 0 1 1 0 0]\n",
            " [0 1 0 0 0 0]]\n",
            "\n",
            " A2 = [[0 1 0 0 0 0]\n",
            " [1 0 0 0 0 1]\n",
            " [0 0 0 1 1 0]\n",
            " [0 0 1 0 1 0]\n",
            " [0 0 1 1 0 0]\n",
            " [0 1 0 0 0 0]]\n",
            "\n",
            " A3 = [[0 0 1 0 0 0]\n",
            " [1 0 0 0 0 1]\n",
            " [0 0 0 0 1 0]\n",
            " [0 1 1 0 1 0]\n",
            " [1 0 1 1 0 0]\n",
            " [0 0 0 0 0 1]]\n"
          ]
        }
      ],
      "source": [
        "import numpy\n",
        "\n",
        "# Create an adjacency matrix for the graph in Figure 8.1\n",
        "A1 = numpy.array([[0, 1, 1, 0, 1, 0], [1, 0, 1, 1, 0, 1],\n",
        "                 [1, 1, 0, 1, 1, 0], [0, 1, 1, 0, 1, 0],\n",
        "                 [1, 0, 1, 1, 0, 0], [0, 1, 0, 0, 0, 0]])\n",
        "\n",
        "# Create an adjacency matrix for the graph in Figure 8.8\n",
        "A2 = numpy.array([[0, 1, 0, 0, 0, 0], [1, 0, 0, 0, 0, 1],\n",
        "                 [0, 0, 0, 1, 1, 0], [0, 0, 1, 0, 1, 0],\n",
        "                 [0, 0, 1, 1, 0, 0], [0, 1, 0, 0, 0, 0]])\n",
        "\n",
        "# Create an adjacency matrix for the directed graph in Figure 8.6\n",
        "A3 = numpy.array([[0, 0, 1, 0, 0, 0], [1, 0, 0, 0, 0, 1],\n",
        "                 [0, 0, 0, 0, 1, 0], [0, 1, 1, 0, 1, 0],\n",
        "                 [1, 0, 1, 1, 0, 0], [0, 0, 0, 0, 0, 1]])\n",
        "\n",
        "# print the adjacency matrices\n",
        "print(\"A1 =\", A1)\n",
        "print(\"\\n A2 =\", A2)\n",
        "print(\"\\n A3 =\", A3)"
      ]
    },
    {
      "cell_type": "markdown",
      "metadata": {
        "id": "BoXmwtTLrbPl"
      },
      "source": [
        "Below are weight matrices for the networks in Figure 8.5 and Figure 8.7."
      ]
    },
    {
      "cell_type": "code",
      "execution_count": 3,
      "metadata": {
        "id": "fXUyyDNErbPm",
        "outputId": "07992e00-3590-4234-8d17-4aadd4e3d104",
        "colab": {
          "base_uri": "https://localhost:8080/"
        }
      },
      "outputs": [
        {
          "output_type": "stream",
          "name": "stdout",
          "text": [
            "W1 = [[0 4 1 0 2 0]\n",
            " [4 0 2 1 0 1]\n",
            " [1 2 0 1 1 0]\n",
            " [0 1 1 0 2 0]\n",
            " [2 0 1 2 0 0]\n",
            " [0 1 0 0 0 0]]\n",
            "\n",
            " W2 = [[0 0 2 0 0 0]\n",
            " [1 0 0 0 0 2]\n",
            " [0 0 0 0 2 0]\n",
            " [0 2 3 0 4 0]\n",
            " [3 0 1 1 0 0]\n",
            " [0 0 0 0 0 1]]\n"
          ]
        }
      ],
      "source": [
        "import numpy\n",
        "\n",
        "# Create a weight matrix for the network in Figure 8.5\n",
        "W1 = numpy.array([[0, 4, 1, 0, 2, 0], [4, 0, 2, 1, 0, 1],\n",
        "                 [1, 2, 0, 1, 1, 0], [0, 1, 1, 0, 2, 0],\n",
        "                 [2, 0, 1, 2, 0, 0], [0, 1, 0, 0, 0, 0]])\n",
        "\n",
        "# Create a weight matrix for the directed network in Figure 8.7\n",
        "W2 = numpy.array([[0, 0, 2, 0, 0, 0], [1, 0, 0, 0, 0, 2],\n",
        "                 [0, 0, 0, 0, 2, 0], [0, 2, 3, 0, 4, 0],\n",
        "                 [3, 0, 1, 1, 0, 0], [0, 0, 0, 0, 0, 1]])\n",
        "\n",
        "# Print the weight matrices\n",
        "print(\"W1 =\", W1)\n",
        "print(\"\\n W2 =\", W2)"
      ]
    },
    {
      "cell_type": "markdown",
      "metadata": {
        "id": "VxkhnXIjrbPn"
      },
      "source": [
        "## Feature Extraction of Graphs"
      ]
    },
    {
      "cell_type": "markdown",
      "metadata": {
        "id": "zZXV4azQrbPo"
      },
      "source": [
        "Below is how we can find the degrees of the vertices of the graph in Figure 8.1."
      ]
    },
    {
      "cell_type": "code",
      "execution_count": 4,
      "metadata": {
        "id": "TVLcnKNcrbPp",
        "outputId": "a4f861c9-0991-415f-b5bb-ece9bde66ce8",
        "colab": {
          "base_uri": "https://localhost:8080/"
        }
      },
      "outputs": [
        {
          "output_type": "stream",
          "name": "stdout",
          "text": [
            "[3 4 4 3 3 1]\n",
            "[3 4 4 3 3 1]\n"
          ]
        }
      ],
      "source": [
        "# Find the degrees of each vertex of the graph in Figure 8.1\n",
        "\n",
        "# Using column sums\n",
        "print(numpy.sum(A1, axis=0))\n",
        "\n",
        "# Using row sums\n",
        "print(numpy.sum(A1, axis=1))"
      ]
    },
    {
      "cell_type": "markdown",
      "metadata": {
        "id": "ZaQGg0S8rbPq"
      },
      "source": [
        "Below is how we can find the in-degrees and out-degrees of the vertices of the directed graph in Figure 8.6."
      ]
    },
    {
      "cell_type": "code",
      "execution_count": 5,
      "metadata": {
        "id": "bzLZYocArbPr",
        "outputId": "802c599a-3311-487a-abee-9ae5cb76629f",
        "colab": {
          "base_uri": "https://localhost:8080/"
        }
      },
      "outputs": [
        {
          "output_type": "stream",
          "name": "stdout",
          "text": [
            "[1 2 1 3 3 1]\n",
            "[2 1 3 1 2 2]\n",
            "11\n",
            "11\n"
          ]
        }
      ],
      "source": [
        "# Find out-degrees for each vertex in the directed graph in Figure 8.6\n",
        "outdegrees = numpy.sum(A3, axis=1)\n",
        "print(outdegrees)\n",
        "\n",
        "# Find in-degrees for each vertex in the directed graph in Figure 8.6\n",
        "indegrees = numpy.sum(A3, axis=0)\n",
        "print(indegrees)\n",
        "\n",
        "print(numpy.sum(outdegrees))\n",
        "print(numpy.sum(indegrees))"
      ]
    },
    {
      "cell_type": "markdown",
      "metadata": {
        "id": "yKCVANG7rbPs"
      },
      "source": [
        "Below is code to find the second and third powers of the adjacency matrix of the graph from Figure 8.1. The number in row $i$, column $j$ of each power represents the number of 2-edge and 3-edge paths between vertex $v_{i-1}$ and $v_{j-1}$, respectively."
      ]
    },
    {
      "cell_type": "code",
      "execution_count": null,
      "metadata": {
        "id": "TR_DLdlhrbPt",
        "outputId": "f4df57f6-1c5e-4afc-e612-22a4b8db4d49"
      },
      "outputs": [
        {
          "name": "stdout",
          "output_type": "stream",
          "text": [
            "[[3 1 2 3 1 1]\n",
            " [1 4 2 1 3 0]\n",
            " [2 2 4 2 2 1]\n",
            " [3 1 2 3 1 1]\n",
            " [1 3 2 1 3 0]\n",
            " [1 0 1 1 0 1]]\n",
            "\n",
            " [[4 9 8 4 8 1]\n",
            " [9 4 9 9 4 4]\n",
            " [8 9 8 8 8 2]\n",
            " [4 9 8 4 8 1]\n",
            " [8 4 8 8 4 3]\n",
            " [1 4 2 1 3 0]]\n"
          ]
        }
      ],
      "source": [
        "# Find the second power of adjacency matrix A1\n",
        "print(numpy.linalg.matrix_power(A1,2))\n",
        "\n",
        "# Find the third power of adjacency matrix A1\n",
        "print(\"\\n\", numpy.linalg.matrix_power(A1,3))"
      ]
    },
    {
      "cell_type": "markdown",
      "metadata": {
        "id": "6E3sTEKzrbPu"
      },
      "source": [
        "The code below finds the number of paths between several pairs of vertices of different lengths for the directed graph in Figure 8.8."
      ]
    },
    {
      "cell_type": "code",
      "execution_count": 6,
      "metadata": {
        "id": "no2azoDsrbPu",
        "outputId": "4c9a816f-f131-460d-e822-666c95848170",
        "colab": {
          "base_uri": "https://localhost:8080/"
        }
      },
      "outputs": [
        {
          "output_type": "stream",
          "name": "stdout",
          "text": [
            "There are 0 paths of length 1 from v1 to v6\n",
            "There are 1 paths of length 2 from v1 to v6\n",
            "There are 0 paths of length 3 from v1 to v6\n",
            "There are 2 paths of length 4 from v1 to v6\n",
            "There are 0 paths of length 5 from v1 to v6\n",
            "There are 4 paths of length 6 from v1 to v6\n",
            "There are 0 paths of length 1 from v2 to v3\n",
            "There are 0 paths of length 2 from v2 to v3\n",
            "There are 0 paths of length 3 from v2 to v3\n",
            "There are 0 paths of length 4 from v2 to v3\n",
            "There are 0 paths of length 5 from v2 to v3\n",
            "There are 0 paths of length 6 from v2 to v3\n"
          ]
        }
      ],
      "source": [
        "# Print the number of paths from v1 to v6 of each length from 1 to 6\n",
        "for counter in range(1,7):\n",
        "    A2counter = numpy.linalg.matrix_power(A2,counter)\n",
        "    print(\"There are\", A2counter[0,5], \"paths of length\", counter, \"from v1 to v6\")\n",
        "\n",
        "# Print the number of paths from v2 to v3 of each length from 1 to 6\n",
        "for counter in range(1,7):\n",
        "    A2counter = numpy.linalg.matrix_power(A2,counter)\n",
        "    print(\"There are\", A2counter[1,2], \"paths of length\", counter, \"from v2 to v3\")"
      ]
    },
    {
      "cell_type": "markdown",
      "source": [
        "1) Figure 8.7, w2 = 1 code snippet\n"
      ],
      "metadata": {
        "id": "58kvHm9FsRc0"
      }
    },
    {
      "cell_type": "code",
      "source": [
        "import numpy as np\n",
        "# Weight matrix for Figure 8.7\n",
        "W2 = np.array([[0, 0, 2, 0, 0, 0],\n",
        "               [1, 0, 0, 0, 0, 2],\n",
        "               [0, 0, 0, 0, 2, 0],\n",
        "               [0, 2, 3, 0, 4, 0],\n",
        "               [3, 0, 1, 1, 0, 0],\n",
        "               [0, 0, 0, 0, 0, 1]])\n",
        "\n",
        "# Function to calculate paths of a given length\n",
        "def paths_of_length(W, length):\n",
        "    return np.linalg.matrix_power(W, length)\n",
        "\n",
        "# Number of paths of length 1, 2, 3 for W2 (Figure 8.7)\n",
        "print(\"Paths of length 1:\")\n",
        "print(paths_of_length(W2, 1))\n",
        "\n",
        "print(\"\\nPaths of length 2:\")\n",
        "print(paths_of_length(W2, 2))\n",
        "\n",
        "print(\"\\nPaths of length 3:\")\n",
        "print(paths_of_length(W2, 3))"
      ],
      "metadata": {
        "id": "KqhGjK4Usomu",
        "outputId": "49e04999-0070-419e-a946-be37cf8dd528",
        "colab": {
          "base_uri": "https://localhost:8080/"
        }
      },
      "execution_count": 17,
      "outputs": [
        {
          "output_type": "stream",
          "name": "stdout",
          "text": [
            "Paths of length 1:\n",
            "[[0 0 2 0 0 0]\n",
            " [1 0 0 0 0 2]\n",
            " [0 0 0 0 2 0]\n",
            " [0 2 3 0 4 0]\n",
            " [3 0 1 1 0 0]\n",
            " [0 0 0 0 0 1]]\n",
            "\n",
            "Paths of length 2:\n",
            "[[ 0  0  0  0  4  0]\n",
            " [ 0  0  2  0  0  2]\n",
            " [ 6  0  2  2  0  0]\n",
            " [14  0  4  4  6  4]\n",
            " [ 0  2  9  0  6  0]\n",
            " [ 0  0  0  0  0  1]]\n",
            "\n",
            "Paths of length 3:\n",
            "[[12  0  4  4  0  0]\n",
            " [ 0  0  0  0  4  2]\n",
            " [ 0  4 18  0 12  0]\n",
            " [18  8 46  6 24  4]\n",
            " [20  0  6  6 18  4]\n",
            " [ 0  0  0  0  0  1]]\n"
          ]
        }
      ]
    },
    {
      "cell_type": "markdown",
      "source": [
        "2) Figure 8.6, A3 = 1 code snippet\n"
      ],
      "metadata": {
        "id": "05stjnlTsVIo"
      }
    },
    {
      "cell_type": "code",
      "source": [
        "# Create an adjacency matrix for the graph in Figure 8.8\n",
        "A3 = numpy.array([[0, 1, 0, 0, 0, 0], [1, 0, 0, 0, 0, 1],\n",
        "                 [0, 0, 0, 1, 1, 0], [0, 0, 1, 0, 1, 0],\n",
        "                 [0, 0, 1, 1, 0, 0], [0, 1, 0, 0, 0, 0]])\n",
        "# Print the number of paths from v1 to v6 of each length from 1 to 6\n",
        "for counter in range(1,7):\n",
        "    A3counter = numpy.linalg.matrix_power(A3,counter)\n",
        "    print(\"There are\", A2counter[0,5], \"paths of length\", counter, \"from v1 to v6\")\n",
        "\n",
        "# Print the number of paths from v2 to v3 of each length from 1 to 6\n",
        "for counter in range(1,7):\n",
        "    A3counter = numpy.linalg.matrix_power(A3,counter)\n",
        "    print(\"There are\", A2counter[1,2], \"paths of length\", counter, \"from v2 to v3\")"
      ],
      "metadata": {
        "id": "Mj7H-Uyesmnm",
        "outputId": "d6640662-ec55-40bd-841d-aac1182873f2",
        "colab": {
          "base_uri": "https://localhost:8080/"
        }
      },
      "execution_count": 15,
      "outputs": [
        {
          "output_type": "stream",
          "name": "stdout",
          "text": [
            "There are 4 paths of length 1 from v1 to v6\n",
            "There are 4 paths of length 2 from v1 to v6\n",
            "There are 4 paths of length 3 from v1 to v6\n",
            "There are 4 paths of length 4 from v1 to v6\n",
            "There are 4 paths of length 5 from v1 to v6\n",
            "There are 4 paths of length 6 from v1 to v6\n",
            "There are 0 paths of length 1 from v2 to v3\n",
            "There are 0 paths of length 2 from v2 to v3\n",
            "There are 0 paths of length 3 from v2 to v3\n",
            "There are 0 paths of length 4 from v2 to v3\n",
            "There are 0 paths of length 5 from v2 to v3\n",
            "There are 0 paths of length 6 from v2 to v3\n"
          ]
        }
      ]
    }
  ],
  "metadata": {
    "kernelspec": {
      "display_name": "Python [conda env:dl]",
      "language": "python",
      "name": "conda-env-dl-py"
    },
    "language_info": {
      "codemirror_mode": {
        "name": "ipython",
        "version": 3
      },
      "file_extension": ".py",
      "mimetype": "text/x-python",
      "name": "python",
      "nbconvert_exporter": "python",
      "pygments_lexer": "ipython3",
      "version": "3.7.7"
    },
    "colab": {
      "provenance": []
    }
  },
  "nbformat": 4,
  "nbformat_minor": 0
}